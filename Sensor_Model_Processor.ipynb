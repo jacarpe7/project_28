{
 "cells": [
  {
   "cell_type": "code",
   "execution_count": 4,
   "id": "mysterious-porcelain",
   "metadata": {},
   "outputs": [
    {
     "name": "stdout",
     "output_type": "stream",
     "text": [
      "WARNING:tensorflow:SavedModel saved prior to TF 2.5 detected when loading Keras model. Please ensure that you are saving the model with model.save() or tf.keras.models.save_model(), *NOT* tf.saved_model.save(). To confirm, there should be a file named \"keras_metadata.pb\" in the SavedModel directory.\n"
     ]
    }
   ],
   "source": [
    "import os\n",
    "import serial\n",
    "import platform\n",
    "import pandas as pd\n",
    "import numpy as np\n",
    "import tensorflow as tf\n",
    "from tensorflow import keras\n",
    "\n",
    "# import model and display model summary\n",
    "model = tf.keras.models.load_model('/lstm_model')\n",
    "# model.summary()\n",
    "\n",
    "# Need to define port according to your setup. Typical port name - Windows: 'COM3'  Mac: '/dev/tty.usbmodem12345'\n",
    "platform.system()\n",
    "if platform.system() == 'Windows':\n",
    "    port = '/dev/COM3'\n",
    "else:\n",
    "    port = '/dev/tty.usbmodem12345'"
   ]
  },
  {
   "cell_type": "code",
   "execution_count": null,
   "id": "valuable-sperm",
   "metadata": {},
   "outputs": [],
   "source": [
    "serialPort = serial.Serial(port=port,baudrate=115200,bytesize=8,timeout=2,stopbits=serial.STOPBITS_ONE)\n",
    "\n",
    "# discard first line\n",
    "serialPort.readline()\n",
    "\n",
    "while (1):\n",
    "    queue = []\n",
    "    parseLine = serialPort.readline().decode('utf-8').split(\",\")\n",
    "    \n",
    "    # Read in first 15 lines\n",
    "    for _ in range(15):\n",
    "        queue.append(list(int(parseLine)))\n",
    "        parseLine = serialPort.readline().decode('utf-8').split(\",\")\n",
    "     \n",
    "    # Loop until a line contains a value greater than or equal to 20\n",
    "    while max(list(int(parseLine))) < 20:\n",
    "        parseLine = serialPort.readline().decode('utf-8').split(\",\")\n",
    "        queue.append(list(int(parseLine)))\n",
    "        queue.pop(0)\n",
    "\n",
    "    # Append next 40 lines\n",
    "    for x in range(40):\n",
    "        parseLine = serialPort.readline().decode('utf-8').split(\",\")\n",
    "        queue.append(list(int(parseLine)))\n",
    "    \n",
    "    # Convert values to a vertical array\n",
    "    arr = np.vstack(queue)\n",
    "    prediction = model.predict_classes(arr)\n",
    "\n",
    "    # Test for what result of prediction was\n",
    "    switch (prediction[0]) {\n",
    "        case 1: print('swipe left');\n",
    "            break;\n",
    "        case 2: print('swipe right');\n",
    "            break;\n",
    "        case 3: print('swipe up');\n",
    "            break;\n",
    "        case 4: print('select');\n",
    "            break;\n",
    "        default: print('unknown selection {}'.format(prediction[0]));\n",
    "            break;\n",
    "    }\n",
    "           \n",
    "serialPort.close()"
   ]
  },
  {
   "cell_type": "code",
   "execution_count": null,
   "id": "younger-husband",
   "metadata": {},
   "outputs": [],
   "source": []
  }
 ],
 "metadata": {
  "kernelspec": {
   "display_name": "Python 3",
   "language": "python",
   "name": "python3"
  },
  "language_info": {
   "codemirror_mode": {
    "name": "ipython",
    "version": 3
   },
   "file_extension": ".py",
   "mimetype": "text/x-python",
   "name": "python",
   "nbconvert_exporter": "python",
   "pygments_lexer": "ipython3",
   "version": "3.7.9"
  }
 },
 "nbformat": 4,
 "nbformat_minor": 5
}
