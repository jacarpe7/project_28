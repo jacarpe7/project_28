{
 "cells": [
  {
   "cell_type": "code",
   "execution_count": 14,
   "metadata": {},
   "outputs": [],
   "source": [
    "import sqlite3"
   ]
  },
  {
   "cell_type": "code",
   "execution_count": 15,
   "metadata": {},
   "outputs": [],
   "source": [
    "def check_balance(uuid):\n",
    "    con = sqlite3.connect('bank_db')\n",
    "    cur = con.cursor()\n",
    "    cur.execute('SELECT balance FROM userinfo WHERE uuid = (?)', (uuid,))\n",
    "    return cur.fetchone()"
   ]
  },
  {
   "cell_type": "code",
   "execution_count": 16,
   "metadata": {},
   "outputs": [],
   "source": [
    "def check_pin(uuid, pin):\n",
    "    con = sqlite3.connect('bank_db')\n",
    "    cur = con.cursor()\n",
    "    cur.execute('SELECT * FROM userinfo WHERE uuid = (?) AND pin = (?)', (uuid,pin,))\n",
    "    return cur.fetchone()\n",
    "    "
   ]
  },
  {
   "cell_type": "code",
   "execution_count": 17,
   "metadata": {},
   "outputs": [],
   "source": [
    "def withdraw(uuid, amount):\n",
    "    con = sqlite3.connect('bank_db')\n",
    "    cur = con.cursor()\n",
    "    cur.execute('SELECT balance FROM userinfo WHERE uuid = (?)', (uuid,))\n",
    "    current_amount = cur.fetchone()[0]\n",
    "    if (current_amount - amount) < 0:\n",
    "        return False\n",
    "    else:\n",
    "        new_amount = current_amount - amount\n",
    "        print(new_amount)\n",
    "        cur.execute('UPDATE userinfo SET balance = (?) WHERE uuid= (?)', (new_amount, uuid,))\n",
    "        con.commit()\n",
    "        return True"
   ]
  },
  {
   "cell_type": "code",
   "execution_count": 18,
   "metadata": {},
   "outputs": [
    {
     "name": "stdout",
     "output_type": "stream",
     "text": [
      "('123456789', 'Kelly Petrone', 1234, 385)\n",
      "(385,)\n",
      "380\n",
      "True\n",
      "(380,)\n"
     ]
    }
   ],
   "source": [
    "#Example Functions\n",
    "print(check_pin(\"123456789\", 1234))\n",
    "print(check_balance(\"123456789\"))\n",
    "print(withdraw(\"123456789\", 5))\n",
    "print(check_balance(\"123456789\"))"
   ]
  },
  {
   "cell_type": "code",
   "execution_count": null,
   "metadata": {},
   "outputs": [],
   "source": []
  }
 ],
 "metadata": {
  "kernelspec": {
   "display_name": "Python 3",
   "language": "python",
   "name": "python3"
  },
  "language_info": {
   "codemirror_mode": {
    "name": "ipython",
    "version": 3
   },
   "file_extension": ".py",
   "mimetype": "text/x-python",
   "name": "python",
   "nbconvert_exporter": "python",
   "pygments_lexer": "ipython3",
   "version": "3.7.4"
  }
 },
 "nbformat": 4,
 "nbformat_minor": 2
}
